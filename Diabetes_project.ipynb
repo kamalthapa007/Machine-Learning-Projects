{
 "cells": [
  {
   "cell_type": "code",
   "execution_count": 1,
   "id": "02637868-a89a-4a37-8466-e5c80d979233",
   "metadata": {},
   "outputs": [],
   "source": [
    "# Import all the basic required libraries\n",
    "\n",
    "import numpy as np\n",
    "import pandas as pd\n",
    "import matplotlib.pyplot as plt\n",
    "import seaborn as sns\n",
    "from sklearn.preprocessing import LabelEncoder\n",
    "from sklearn.model_selection import train_test_split\n",
    "from sklearn.preprocessing import StandardScaler\n",
    "from sklearn.linear_model import LogisticRegression\n",
    "from sklearn.tree import DecisionTreeClassifier\n",
    "from sklearn.ensemble import RandomForestClassifier\n",
    "from sklearn.ensemble import AdaBoostClassifier\n",
    "from sklearn.ensemble import GradientBoostingClassifier\n",
    "from xgboost import XGBClassifier\n",
    "from sklearn.svm import LinearSVC\n",
    "from sklearn.svm import SVC\n",
    "from sklearn.metrics import confusion_matrix\n",
    "from sklearn.metrics import classification_report\n",
    "import warnings\n",
    "warnings.filterwarnings('ignore')"
   ]
  },
  {
   "cell_type": "markdown",
   "id": "57093e19-1c73-4657-82c6-fc6ad884f35a",
   "metadata": {},
   "source": [
    "# Data Collection & Pre-processing"
   ]
  },
  {
   "cell_type": "code",
   "execution_count": 2,
   "id": "7b65166c-d1e8-4de9-833f-4dcced36bb36",
   "metadata": {},
   "outputs": [
    {
     "data": {
      "text/html": [
       "<div>\n",
       "<style scoped>\n",
       "    .dataframe tbody tr th:only-of-type {\n",
       "        vertical-align: middle;\n",
       "    }\n",
       "\n",
       "    .dataframe tbody tr th {\n",
       "        vertical-align: top;\n",
       "    }\n",
       "\n",
       "    .dataframe thead th {\n",
       "        text-align: right;\n",
       "    }\n",
       "</style>\n",
       "<table border=\"1\" class=\"dataframe\">\n",
       "  <thead>\n",
       "    <tr style=\"text-align: right;\">\n",
       "      <th></th>\n",
       "      <th>Pregnancies</th>\n",
       "      <th>Glucose</th>\n",
       "      <th>BloodPressure</th>\n",
       "      <th>SkinThickness</th>\n",
       "      <th>Insulin</th>\n",
       "      <th>BMI</th>\n",
       "      <th>DiabetesPedigreeFunction</th>\n",
       "      <th>Age</th>\n",
       "      <th>Outcome</th>\n",
       "    </tr>\n",
       "  </thead>\n",
       "  <tbody>\n",
       "    <tr>\n",
       "      <th>0</th>\n",
       "      <td>6</td>\n",
       "      <td>148</td>\n",
       "      <td>72</td>\n",
       "      <td>35</td>\n",
       "      <td>0</td>\n",
       "      <td>33.6</td>\n",
       "      <td>0.627</td>\n",
       "      <td>50</td>\n",
       "      <td>1</td>\n",
       "    </tr>\n",
       "    <tr>\n",
       "      <th>1</th>\n",
       "      <td>1</td>\n",
       "      <td>85</td>\n",
       "      <td>66</td>\n",
       "      <td>29</td>\n",
       "      <td>0</td>\n",
       "      <td>26.6</td>\n",
       "      <td>0.351</td>\n",
       "      <td>31</td>\n",
       "      <td>0</td>\n",
       "    </tr>\n",
       "    <tr>\n",
       "      <th>2</th>\n",
       "      <td>8</td>\n",
       "      <td>183</td>\n",
       "      <td>64</td>\n",
       "      <td>0</td>\n",
       "      <td>0</td>\n",
       "      <td>23.3</td>\n",
       "      <td>0.672</td>\n",
       "      <td>32</td>\n",
       "      <td>1</td>\n",
       "    </tr>\n",
       "    <tr>\n",
       "      <th>3</th>\n",
       "      <td>1</td>\n",
       "      <td>89</td>\n",
       "      <td>66</td>\n",
       "      <td>23</td>\n",
       "      <td>94</td>\n",
       "      <td>28.1</td>\n",
       "      <td>0.167</td>\n",
       "      <td>21</td>\n",
       "      <td>0</td>\n",
       "    </tr>\n",
       "    <tr>\n",
       "      <th>4</th>\n",
       "      <td>0</td>\n",
       "      <td>137</td>\n",
       "      <td>40</td>\n",
       "      <td>35</td>\n",
       "      <td>168</td>\n",
       "      <td>43.1</td>\n",
       "      <td>2.288</td>\n",
       "      <td>33</td>\n",
       "      <td>1</td>\n",
       "    </tr>\n",
       "  </tbody>\n",
       "</table>\n",
       "</div>"
      ],
      "text/plain": [
       "   Pregnancies  Glucose  BloodPressure  SkinThickness  Insulin   BMI  \\\n",
       "0            6      148             72             35        0  33.6   \n",
       "1            1       85             66             29        0  26.6   \n",
       "2            8      183             64              0        0  23.3   \n",
       "3            1       89             66             23       94  28.1   \n",
       "4            0      137             40             35      168  43.1   \n",
       "\n",
       "   DiabetesPedigreeFunction  Age  Outcome  \n",
       "0                     0.627   50        1  \n",
       "1                     0.351   31        0  \n",
       "2                     0.672   32        1  \n",
       "3                     0.167   21        0  \n",
       "4                     2.288   33        1  "
      ]
     },
     "execution_count": 2,
     "metadata": {},
     "output_type": "execute_result"
    }
   ],
   "source": [
    "# Loading the csv file in Dataframe\n",
    "\n",
    "df = pd.read_csv('diabetes.csv')\n",
    "df.head()"
   ]
  },
  {
   "cell_type": "markdown",
   "id": "bf90af4c-643f-48bb-acba-053edff83b59",
   "metadata": {},
   "source": [
    "# Exploratory Data Analysis (EDA)"
   ]
  },
  {
   "cell_type": "code",
   "execution_count": 3,
   "id": "8dfead5e-6fdf-4fbb-8825-dfdf506a90ae",
   "metadata": {},
   "outputs": [
    {
     "name": "stdout",
     "output_type": "stream",
     "text": [
      "<class 'pandas.core.frame.DataFrame'>\n",
      "RangeIndex: 768 entries, 0 to 767\n",
      "Data columns (total 9 columns):\n",
      " #   Column                    Non-Null Count  Dtype  \n",
      "---  ------                    --------------  -----  \n",
      " 0   Pregnancies               768 non-null    int64  \n",
      " 1   Glucose                   768 non-null    int64  \n",
      " 2   BloodPressure             768 non-null    int64  \n",
      " 3   SkinThickness             768 non-null    int64  \n",
      " 4   Insulin                   768 non-null    int64  \n",
      " 5   BMI                       768 non-null    float64\n",
      " 6   DiabetesPedigreeFunction  768 non-null    float64\n",
      " 7   Age                       768 non-null    int64  \n",
      " 8   Outcome                   768 non-null    int64  \n",
      "dtypes: float64(2), int64(7)\n",
      "memory usage: 54.1 KB\n"
     ]
    }
   ],
   "source": [
    "# Display the concise summary of a dataframe\n",
    "\n",
    "df.info()"
   ]
  },
  {
   "cell_type": "code",
   "execution_count": 4,
   "id": "e57213a4-88ae-4b4f-b054-ed3c630b5251",
   "metadata": {},
   "outputs": [
    {
     "data": {
      "text/plain": [
       "Pregnancies                 0\n",
       "Glucose                     0\n",
       "BloodPressure               0\n",
       "SkinThickness               0\n",
       "Insulin                     0\n",
       "BMI                         0\n",
       "DiabetesPedigreeFunction    0\n",
       "Age                         0\n",
       "Outcome                     0\n",
       "dtype: int64"
      ]
     },
     "execution_count": 4,
     "metadata": {},
     "output_type": "execute_result"
    }
   ],
   "source": [
    "# Check the missing values\n",
    "\n",
    "df.isnull().sum()"
   ]
  },
  {
   "cell_type": "code",
   "execution_count": 5,
   "id": "cf2987af-b5f6-4f48-9132-16f10a28dc7f",
   "metadata": {},
   "outputs": [
    {
     "data": {
      "text/plain": [
       "0"
      ]
     },
     "execution_count": 5,
     "metadata": {},
     "output_type": "execute_result"
    }
   ],
   "source": [
    "# Check the duplicate values\n",
    "\n",
    "df.duplicated().sum()"
   ]
  },
  {
   "cell_type": "code",
   "execution_count": 6,
   "id": "9c932b81-0941-4851-9bda-e70109fbe8af",
   "metadata": {},
   "outputs": [
    {
     "data": {
      "text/html": [
       "<div>\n",
       "<style scoped>\n",
       "    .dataframe tbody tr th:only-of-type {\n",
       "        vertical-align: middle;\n",
       "    }\n",
       "\n",
       "    .dataframe tbody tr th {\n",
       "        vertical-align: top;\n",
       "    }\n",
       "\n",
       "    .dataframe thead th {\n",
       "        text-align: right;\n",
       "    }\n",
       "</style>\n",
       "<table border=\"1\" class=\"dataframe\">\n",
       "  <thead>\n",
       "    <tr style=\"text-align: right;\">\n",
       "      <th></th>\n",
       "      <th>Pregnancies</th>\n",
       "      <th>Glucose</th>\n",
       "      <th>BloodPressure</th>\n",
       "      <th>SkinThickness</th>\n",
       "      <th>Insulin</th>\n",
       "      <th>BMI</th>\n",
       "      <th>DiabetesPedigreeFunction</th>\n",
       "      <th>Age</th>\n",
       "      <th>Outcome</th>\n",
       "    </tr>\n",
       "  </thead>\n",
       "  <tbody>\n",
       "    <tr>\n",
       "      <th>count</th>\n",
       "      <td>768.000000</td>\n",
       "      <td>768.000000</td>\n",
       "      <td>768.000000</td>\n",
       "      <td>768.000000</td>\n",
       "      <td>768.000000</td>\n",
       "      <td>768.000000</td>\n",
       "      <td>768.000000</td>\n",
       "      <td>768.000000</td>\n",
       "      <td>768.000000</td>\n",
       "    </tr>\n",
       "    <tr>\n",
       "      <th>mean</th>\n",
       "      <td>3.845052</td>\n",
       "      <td>120.894531</td>\n",
       "      <td>69.105469</td>\n",
       "      <td>20.536458</td>\n",
       "      <td>79.799479</td>\n",
       "      <td>31.992578</td>\n",
       "      <td>0.471876</td>\n",
       "      <td>33.240885</td>\n",
       "      <td>0.348958</td>\n",
       "    </tr>\n",
       "    <tr>\n",
       "      <th>std</th>\n",
       "      <td>3.369578</td>\n",
       "      <td>31.972618</td>\n",
       "      <td>19.355807</td>\n",
       "      <td>15.952218</td>\n",
       "      <td>115.244002</td>\n",
       "      <td>7.884160</td>\n",
       "      <td>0.331329</td>\n",
       "      <td>11.760232</td>\n",
       "      <td>0.476951</td>\n",
       "    </tr>\n",
       "    <tr>\n",
       "      <th>min</th>\n",
       "      <td>0.000000</td>\n",
       "      <td>0.000000</td>\n",
       "      <td>0.000000</td>\n",
       "      <td>0.000000</td>\n",
       "      <td>0.000000</td>\n",
       "      <td>0.000000</td>\n",
       "      <td>0.078000</td>\n",
       "      <td>21.000000</td>\n",
       "      <td>0.000000</td>\n",
       "    </tr>\n",
       "    <tr>\n",
       "      <th>25%</th>\n",
       "      <td>1.000000</td>\n",
       "      <td>99.000000</td>\n",
       "      <td>62.000000</td>\n",
       "      <td>0.000000</td>\n",
       "      <td>0.000000</td>\n",
       "      <td>27.300000</td>\n",
       "      <td>0.243750</td>\n",
       "      <td>24.000000</td>\n",
       "      <td>0.000000</td>\n",
       "    </tr>\n",
       "    <tr>\n",
       "      <th>50%</th>\n",
       "      <td>3.000000</td>\n",
       "      <td>117.000000</td>\n",
       "      <td>72.000000</td>\n",
       "      <td>23.000000</td>\n",
       "      <td>30.500000</td>\n",
       "      <td>32.000000</td>\n",
       "      <td>0.372500</td>\n",
       "      <td>29.000000</td>\n",
       "      <td>0.000000</td>\n",
       "    </tr>\n",
       "    <tr>\n",
       "      <th>75%</th>\n",
       "      <td>6.000000</td>\n",
       "      <td>140.250000</td>\n",
       "      <td>80.000000</td>\n",
       "      <td>32.000000</td>\n",
       "      <td>127.250000</td>\n",
       "      <td>36.600000</td>\n",
       "      <td>0.626250</td>\n",
       "      <td>41.000000</td>\n",
       "      <td>1.000000</td>\n",
       "    </tr>\n",
       "    <tr>\n",
       "      <th>max</th>\n",
       "      <td>17.000000</td>\n",
       "      <td>199.000000</td>\n",
       "      <td>122.000000</td>\n",
       "      <td>99.000000</td>\n",
       "      <td>846.000000</td>\n",
       "      <td>67.100000</td>\n",
       "      <td>2.420000</td>\n",
       "      <td>81.000000</td>\n",
       "      <td>1.000000</td>\n",
       "    </tr>\n",
       "  </tbody>\n",
       "</table>\n",
       "</div>"
      ],
      "text/plain": [
       "       Pregnancies     Glucose  BloodPressure  SkinThickness     Insulin  \\\n",
       "count   768.000000  768.000000     768.000000     768.000000  768.000000   \n",
       "mean      3.845052  120.894531      69.105469      20.536458   79.799479   \n",
       "std       3.369578   31.972618      19.355807      15.952218  115.244002   \n",
       "min       0.000000    0.000000       0.000000       0.000000    0.000000   \n",
       "25%       1.000000   99.000000      62.000000       0.000000    0.000000   \n",
       "50%       3.000000  117.000000      72.000000      23.000000   30.500000   \n",
       "75%       6.000000  140.250000      80.000000      32.000000  127.250000   \n",
       "max      17.000000  199.000000     122.000000      99.000000  846.000000   \n",
       "\n",
       "              BMI  DiabetesPedigreeFunction         Age     Outcome  \n",
       "count  768.000000                768.000000  768.000000  768.000000  \n",
       "mean    31.992578                  0.471876   33.240885    0.348958  \n",
       "std      7.884160                  0.331329   11.760232    0.476951  \n",
       "min      0.000000                  0.078000   21.000000    0.000000  \n",
       "25%     27.300000                  0.243750   24.000000    0.000000  \n",
       "50%     32.000000                  0.372500   29.000000    0.000000  \n",
       "75%     36.600000                  0.626250   41.000000    1.000000  \n",
       "max     67.100000                  2.420000   81.000000    1.000000  "
      ]
     },
     "execution_count": 6,
     "metadata": {},
     "output_type": "execute_result"
    }
   ],
   "source": [
    "# check the statistic summary of numeric attributes\n",
    "\n",
    "df.describe()"
   ]
  },
  {
   "cell_type": "code",
   "execution_count": 7,
   "id": "f7bb9db4-b1ff-4774-956a-1cb1e0d855d8",
   "metadata": {},
   "outputs": [
    {
     "data": {
      "image/png": "[encoded data removed]",
      "text/plain": [
       "<Figure size 400x300 with 1 Axes>"
      ]
     },
     "metadata": {},
     "output_type": "display_data"
    }
   ],
   "source": [
    "# Create a scatterplot chart to see the relationship between Features.\n",
    "\n",
    "plt.figure(figsize = (4,3))\n",
    "sns.scatterplot(data = df, x = 'Pregnancies', y = 'Glucose')\n",
    "plt.show()"
   ]
  },
  {
   "cell_type": "code",
   "execution_count": 8,
   "id": "6cc32ce7-18fa-45a5-a734-83ed87306c0a",
   "metadata": {},
   "outputs": [
    {
     "data": {
      "image/png": "[encoded data removed]",
      "text/plain": [
       "<Figure size 400x300 with 1 Axes>"
      ]
     },
     "metadata": {},
     "output_type": "display_data"
    }
   ],
   "source": [
    "# Create a scatterplot chart to see the relationship between Features.\n",
    "\n",
    "plt.figure(figsize = (4,3))\n",
    "sns.scatterplot(data = df, x = 'BloodPressure', y = 'BMI')\n",
    "plt.show()"
   ]
  },
  {
   "cell_type": "code",
   "execution_count": 9,
   "id": "1b9dbfcc-f605-4f1d-a21b-fc38cec97f94",
   "metadata": {},
   "outputs": [
    {
     "data": {
      "image/png": "[encoded data removed]",
      "text/plain": [
       "<Figure size 500x300 with 2 Axes>"
      ]
     },
     "metadata": {},
     "output_type": "display_data"
    }
   ],
   "source": [
    "# Check the correlation of features using heatmap\n",
    "\n",
    "plt.figure(figsize = (5,3))\n",
    "sns.heatmap(df.corr(), annot = True)\n",
    "plt.show()"
   ]
  },
  {
   "cell_type": "code",
   "execution_count": 10,
   "id": "1f22cf20-1bae-483f-bd4c-f7c3a112710d",
   "metadata": {},
   "outputs": [
    {
     "data": {
      "text/html": [
       "<div>\n",
       "<style scoped>\n",
       "    .dataframe tbody tr th:only-of-type {\n",
       "        vertical-align: middle;\n",
       "    }\n",
       "\n",
       "    .dataframe tbody tr th {\n",
       "        vertical-align: top;\n",
       "    }\n",
       "\n",
       "    .dataframe thead th {\n",
       "        text-align: right;\n",
       "    }\n",
       "</style>\n",
       "<table border=\"1\" class=\"dataframe\">\n",
       "  <thead>\n",
       "    <tr style=\"text-align: right;\">\n",
       "      <th></th>\n",
       "      <th>Pregnancies</th>\n",
       "      <th>Glucose</th>\n",
       "      <th>BloodPressure</th>\n",
       "      <th>SkinThickness</th>\n",
       "      <th>Insulin</th>\n",
       "      <th>BMI</th>\n",
       "      <th>DiabetesPedigreeFunction</th>\n",
       "      <th>Age</th>\n",
       "      <th>Outcome</th>\n",
       "    </tr>\n",
       "  </thead>\n",
       "  <tbody>\n",
       "    <tr>\n",
       "      <th>Pregnancies</th>\n",
       "      <td>1.000000</td>\n",
       "      <td>0.129459</td>\n",
       "      <td>0.141282</td>\n",
       "      <td>-0.081672</td>\n",
       "      <td>-0.073535</td>\n",
       "      <td>0.017683</td>\n",
       "      <td>-0.033523</td>\n",
       "      <td>0.544341</td>\n",
       "      <td>0.221898</td>\n",
       "    </tr>\n",
       "    <tr>\n",
       "      <th>Glucose</th>\n",
       "      <td>0.129459</td>\n",
       "      <td>1.000000</td>\n",
       "      <td>0.152590</td>\n",
       "      <td>0.057328</td>\n",
       "      <td>0.331357</td>\n",
       "      <td>0.221071</td>\n",
       "      <td>0.137337</td>\n",
       "      <td>0.263514</td>\n",
       "      <td>0.466581</td>\n",
       "    </tr>\n",
       "    <tr>\n",
       "      <th>BloodPressure</th>\n",
       "      <td>0.141282</td>\n",
       "      <td>0.152590</td>\n",
       "      <td>1.000000</td>\n",
       "      <td>0.207371</td>\n",
       "      <td>0.088933</td>\n",
       "      <td>0.281805</td>\n",
       "      <td>0.041265</td>\n",
       "      <td>0.239528</td>\n",
       "      <td>0.065068</td>\n",
       "    </tr>\n",
       "    <tr>\n",
       "      <th>SkinThickness</th>\n",
       "      <td>-0.081672</td>\n",
       "      <td>0.057328</td>\n",
       "      <td>0.207371</td>\n",
       "      <td>1.000000</td>\n",
       "      <td>0.436783</td>\n",
       "      <td>0.392573</td>\n",
       "      <td>0.183928</td>\n",
       "      <td>-0.113970</td>\n",
       "      <td>0.074752</td>\n",
       "    </tr>\n",
       "    <tr>\n",
       "      <th>Insulin</th>\n",
       "      <td>-0.073535</td>\n",
       "      <td>0.331357</td>\n",
       "      <td>0.088933</td>\n",
       "      <td>0.436783</td>\n",
       "      <td>1.000000</td>\n",
       "      <td>0.197859</td>\n",
       "      <td>0.185071</td>\n",
       "      <td>-0.042163</td>\n",
       "      <td>0.130548</td>\n",
       "    </tr>\n",
       "    <tr>\n",
       "      <th>BMI</th>\n",
       "      <td>0.017683</td>\n",
       "      <td>0.221071</td>\n",
       "      <td>0.281805</td>\n",
       "      <td>0.392573</td>\n",
       "      <td>0.197859</td>\n",
       "      <td>1.000000</td>\n",
       "      <td>0.140647</td>\n",
       "      <td>0.036242</td>\n",
       "      <td>0.292695</td>\n",
       "    </tr>\n",
       "    <tr>\n",
       "      <th>DiabetesPedigreeFunction</th>\n",
       "      <td>-0.033523</td>\n",
       "      <td>0.137337</td>\n",
       "      <td>0.041265</td>\n",
       "      <td>0.183928</td>\n",
       "      <td>0.185071</td>\n",
       "      <td>0.140647</td>\n",
       "      <td>1.000000</td>\n",
       "      <td>0.033561</td>\n",
       "      <td>0.173844</td>\n",
       "    </tr>\n",
       "    <tr>\n",
       "      <th>Age</th>\n",
       "      <td>0.544341</td>\n",
       "      <td>0.263514</td>\n",
       "      <td>0.239528</td>\n",
       "      <td>-0.113970</td>\n",
       "      <td>-0.042163</td>\n",
       "      <td>0.036242</td>\n",
       "      <td>0.033561</td>\n",
       "      <td>1.000000</td>\n",
       "      <td>0.238356</td>\n",
       "    </tr>\n",
       "    <tr>\n",
       "      <th>Outcome</th>\n",
       "      <td>0.221898</td>\n",
       "      <td>0.466581</td>\n",
       "      <td>0.065068</td>\n",
       "      <td>0.074752</td>\n",
       "      <td>0.130548</td>\n",
       "      <td>0.292695</td>\n",
       "      <td>0.173844</td>\n",
       "      <td>0.238356</td>\n",
       "      <td>1.000000</td>\n",
       "    </tr>\n",
       "  </tbody>\n",
       "</table>\n",
       "</div>"
      ],
      "text/plain": [
       "                          Pregnancies   Glucose  BloodPressure  SkinThickness  \\\n",
       "Pregnancies                  1.000000  0.129459       0.141282      -0.081672   \n",
       "Glucose                      0.129459  1.000000       0.152590       0.057328   \n",
       "BloodPressure                0.141282  0.152590       1.000000       0.207371   \n",
       "SkinThickness               -0.081672  0.057328       0.207371       1.000000   \n",
       "Insulin                     -0.073535  0.331357       0.088933       0.436783   \n",
       "BMI                          0.017683  0.221071       0.281805       0.392573   \n",
       "DiabetesPedigreeFunction    -0.033523  0.137337       0.041265       0.183928   \n",
       "Age                          0.544341  0.263514       0.239528      -0.113970   \n",
       "Outcome                      0.221898  0.466581       0.065068       0.074752   \n",
       "\n",
       "                           Insulin       BMI  DiabetesPedigreeFunction  \\\n",
       "Pregnancies              -0.073535  0.017683                 -0.033523   \n",
       "Glucose                   0.331357  0.221071                  0.137337   \n",
       "BloodPressure             0.088933  0.281805                  0.041265   \n",
       "SkinThickness             0.436783  0.392573                  0.183928   \n",
       "Insulin                   1.000000  0.197859                  0.185071   \n",
       "BMI                       0.197859  1.000000                  0.140647   \n",
       "DiabetesPedigreeFunction  0.185071  0.140647                  1.000000   \n",
       "Age                      -0.042163  0.036242                  0.033561   \n",
       "Outcome                   0.130548  0.292695                  0.173844   \n",
       "\n",
       "                               Age   Outcome  \n",
       "Pregnancies               0.544341  0.221898  \n",
       "Glucose                   0.263514  0.466581  \n",
       "BloodPressure             0.239528  0.065068  \n",
       "SkinThickness            -0.113970  0.074752  \n",
       "Insulin                  -0.042163  0.130548  \n",
       "BMI                       0.036242  0.292695  \n",
       "DiabetesPedigreeFunction  0.033561  0.173844  \n",
       "Age                       1.000000  0.238356  \n",
       "Outcome                   0.238356  1.000000  "
      ]
     },
     "execution_count": 10,
     "metadata": {},
     "output_type": "execute_result"
    }
   ],
   "source": [
    "# Check the correlation of features\n",
    "\n",
    "df.corr()"
   ]
  },
  {
   "cell_type": "code",
   "execution_count": 11,
   "id": "931702f5-f691-4341-a7b3-d0e0303d8519",
   "metadata": {},
   "outputs": [
    {
     "data": {
      "text/plain": [
       "Outcome\n",
       "0    500\n",
       "1    268\n",
       "Name: count, dtype: int64"
      ]
     },
     "execution_count": 11,
     "metadata": {},
     "output_type": "execute_result"
    }
   ],
   "source": [
    "# check the distribution of Target Variable\n",
    "df['Outcome'].value_counts()"
   ]
  },
  {
   "cell_type": "markdown",
   "id": "de2d8f1d-33ea-4819-bda3-4e4d357cd68b",
   "metadata": {},
   "source": [
    "# Seperate the Features and Target variable"
   ]
  },
  {
   "cell_type": "code",
   "execution_count": 12,
   "id": "303843e9-744a-45fe-a0b4-e499e484e757",
   "metadata": {},
   "outputs": [],
   "source": [
    "# seperate the features input and target variable\n",
    "X = df.drop('Outcome', axis = 1)\n",
    "y = df['Outcome']"
   ]
  },
  {
   "cell_type": "code",
   "execution_count": 13,
   "id": "01b60c87-21d5-400e-8c3f-47ddb5130938",
   "metadata": {},
   "outputs": [
    {
     "data": {
      "text/html": [
       "<div>\n",
       "<style scoped>\n",
       "    .dataframe tbody tr th:only-of-type {\n",
       "        vertical-align: middle;\n",
       "    }\n",
       "\n",
       "    .dataframe tbody tr th {\n",
       "        vertical-align: top;\n",
       "    }\n",
       "\n",
       "    .dataframe thead th {\n",
       "        text-align: right;\n",
       "    }\n",
       "</style>\n",
       "<table border=\"1\" class=\"dataframe\">\n",
       "  <thead>\n",
       "    <tr style=\"text-align: right;\">\n",
       "      <th></th>\n",
       "      <th>Pregnancies</th>\n",
       "      <th>Glucose</th>\n",
       "      <th>BloodPressure</th>\n",
       "      <th>SkinThickness</th>\n",
       "      <th>Insulin</th>\n",
       "      <th>BMI</th>\n",
       "      <th>DiabetesPedigreeFunction</th>\n",
       "      <th>Age</th>\n",
       "    </tr>\n",
       "  </thead>\n",
       "  <tbody>\n",
       "    <tr>\n",
       "      <th>0</th>\n",
       "      <td>6</td>\n",
       "      <td>148</td>\n",
       "      <td>72</td>\n",
       "      <td>35</td>\n",
       "      <td>0</td>\n",
       "      <td>33.6</td>\n",
       "      <td>0.627</td>\n",
       "      <td>50</td>\n",
       "    </tr>\n",
       "    <tr>\n",
       "      <th>1</th>\n",
       "      <td>1</td>\n",
       "      <td>85</td>\n",
       "      <td>66</td>\n",
       "      <td>29</td>\n",
       "      <td>0</td>\n",
       "      <td>26.6</td>\n",
       "      <td>0.351</td>\n",
       "      <td>31</td>\n",
       "    </tr>\n",
       "    <tr>\n",
       "      <th>2</th>\n",
       "      <td>8</td>\n",
       "      <td>183</td>\n",
       "      <td>64</td>\n",
       "      <td>0</td>\n",
       "      <td>0</td>\n",
       "      <td>23.3</td>\n",
       "      <td>0.672</td>\n",
       "      <td>32</td>\n",
       "    </tr>\n",
       "    <tr>\n",
       "      <th>3</th>\n",
       "      <td>1</td>\n",
       "      <td>89</td>\n",
       "      <td>66</td>\n",
       "      <td>23</td>\n",
       "      <td>94</td>\n",
       "      <td>28.1</td>\n",
       "      <td>0.167</td>\n",
       "      <td>21</td>\n",
       "    </tr>\n",
       "    <tr>\n",
       "      <th>4</th>\n",
       "      <td>0</td>\n",
       "      <td>137</td>\n",
       "      <td>40</td>\n",
       "      <td>35</td>\n",
       "      <td>168</td>\n",
       "      <td>43.1</td>\n",
       "      <td>2.288</td>\n",
       "      <td>33</td>\n",
       "    </tr>\n",
       "  </tbody>\n",
       "</table>\n",
       "</div>"
      ],
      "text/plain": [
       "   Pregnancies  Glucose  BloodPressure  SkinThickness  Insulin   BMI  \\\n",
       "0            6      148             72             35        0  33.6   \n",
       "1            1       85             66             29        0  26.6   \n",
       "2            8      183             64              0        0  23.3   \n",
       "3            1       89             66             23       94  28.1   \n",
       "4            0      137             40             35      168  43.1   \n",
       "\n",
       "   DiabetesPedigreeFunction  Age  \n",
       "0                     0.627   50  \n",
       "1                     0.351   31  \n",
       "2                     0.672   32  \n",
       "3                     0.167   21  \n",
       "4                     2.288   33  "
      ]
     },
     "execution_count": 13,
     "metadata": {},
     "output_type": "execute_result"
    }
   ],
   "source": [
    "# Check the data of X\n",
    "\n",
    "X.head()"
   ]
  },
  {
   "cell_type": "code",
   "execution_count": 14,
   "id": "c8282bad-1690-4435-aa3f-a56f8e201ffd",
   "metadata": {},
   "outputs": [
    {
     "data": {
      "text/plain": [
       "0    1\n",
       "1    0\n",
       "2    1\n",
       "3    0\n",
       "4    1\n",
       "Name: Outcome, dtype: int64"
      ]
     },
     "execution_count": 14,
     "metadata": {},
     "output_type": "execute_result"
    }
   ],
   "source": [
    "# Check the data of y\n",
    "\n",
    "y.head()"
   ]
  },
  {
   "cell_type": "markdown",
   "id": "0f38eac5-f473-48a6-a049-3c83bf86ec91",
   "metadata": {},
   "source": [
    "# Train Test Split"
   ]
  },
  {
   "cell_type": "code",
   "execution_count": 15,
   "id": "8647df49-786f-438f-bb2e-d59005be665d",
   "metadata": {},
   "outputs": [],
   "source": [
    "# Splitting the data into Training and Testing data.\n",
    "\n",
    "X_train, X_test, y_train, y_test = train_test_split(X, y, test_size = 0.3, random_state = 1)"
   ]
  },
  {
   "cell_type": "code",
   "execution_count": 16,
   "id": "4b0aab30-0fb2-4e26-8d4d-a446ca3d0336",
   "metadata": {},
   "outputs": [
    {
     "name": "stdout",
     "output_type": "stream",
     "text": [
      "(768, 8) (537, 8) (231, 8)\n"
     ]
    }
   ],
   "source": [
    "# checking the shape of X_train, x_test\n",
    "\n",
    "print(X.shape, X_train.shape, X_test.shape)"
   ]
  },
  {
   "cell_type": "code",
   "execution_count": 17,
   "id": "19993b51-4474-44ec-8a65-42c4e46c3832",
   "metadata": {},
   "outputs": [],
   "source": [
    "# Scaling the data using StandardScaler()\n",
    "\n",
    "ss = StandardScaler() # Create the object of StandardScaler\n",
    "X_train = ss.fit_transform(X_train) # Fit the scaler on the training data & apply the transformation\n",
    "X_test = ss.transform(X_test) # Apply the same transformation to test data"
   ]
  },
  {
   "cell_type": "code",
   "execution_count": 18,
   "id": "6dcef3d9-319c-4a6f-9f35-77ce7569b009",
   "metadata": {},
   "outputs": [
    {
     "data": {
      "text/plain": [
       "array([[ 3.3536084 ,  0.48047259,  0.05216975, ...,  0.68611992,\n",
       "        -0.94690147,  0.81020454],\n",
       "       [-1.12101735, -0.76891126, -0.2463932 , ...,  0.64699564,\n",
       "         0.39612987, -0.69526203],\n",
       "       [-0.82270897, -0.16023707,  0.05216975, ..., -0.5788985 ,\n",
       "        -0.7936697 , -1.02981015],\n",
       "       ...,\n",
       "       [ 2.75699163,  0.16011776,  1.04737957, ...,  1.50772982,\n",
       "         0.34505262,  0.72656751],\n",
       "       [ 0.07221618,  1.60171451,  0.15169073, ...,  1.53381267,\n",
       "         0.03258   , -0.611625  ],\n",
       "       [ 1.5637581 , -0.60873384,  0.3507327 , ...,  0.13837998,\n",
       "         0.59142526,  1.06111563]])"
      ]
     },
     "execution_count": 18,
     "metadata": {},
     "output_type": "execute_result"
    }
   ],
   "source": [
    "X_train"
   ]
  },
  {
   "cell_type": "code",
   "execution_count": 19,
   "id": "3395fa3b-9c0a-4d84-8609-e1a1507119b1",
   "metadata": {},
   "outputs": [
    {
     "data": {
      "text/plain": [
       "array([[ 0.96714133,  0.48047259,  0.25121172, ..., -0.76147848,\n",
       "         0.53734346,  1.47930079],\n",
       "       [-0.82270897,  0.96100484, -0.44543516, ..., -0.74843705,\n",
       "        -0.86878331, -0.94617312],\n",
       "       [ 0.66883295, -0.38448546, -0.44543516, ..., -0.89189275,\n",
       "        -0.78766061, -0.52798796],\n",
       "       ...,\n",
       "       [-0.82270897, -0.96112415, -0.74399811, ..., -0.8658099 ,\n",
       "        -0.70353337, -0.86253609],\n",
       "       [ 1.86206648,  1.50560806,  0.25121172, ...,  0.80349276,\n",
       "         0.20684358,  0.05747126],\n",
       "       [ 1.5637581 , -0.28837901,  0.64929565, ...,  0.30791853,\n",
       "        -0.62541522,  0.22474532]])"
      ]
     },
     "execution_count": 19,
     "metadata": {},
     "output_type": "execute_result"
    }
   ],
   "source": [
    "X_test"
   ]
  },
  {
   "cell_type": "markdown",
   "id": "07091ff7-556d-4a5e-a9a7-12cae3fb59a0",
   "metadata": {},
   "source": [
    "# Model Training"
   ]
  },
  {
   "cell_type": "code",
   "execution_count": 20,
   "id": "d8d54d8c-239f-4fb9-b5b0-89909aae3ffe",
   "metadata": {},
   "outputs": [],
   "source": [
    "# Creating user defined function for training and testing the model.\n",
    "\n",
    "def myfunc(model):\n",
    "\n",
    "    # Fit the model to the training data\n",
    "    model.fit(X_train, y_train)\n",
    "\n",
    "    # Predict the labels for the test data\n",
    "    y_pred = model.predict(X_test)\n",
    "\n",
    "    # Print the confusion matrix to evaluate the performance of the classification model\n",
    "    print(confusion_matrix(y_test, y_pred))\n",
    "\n",
    "    # Print the classification report for detailed performance metrics such as precision, recall, and F1-score\n",
    "    print(classification_report(y_test, y_pred))\n",
    "\n",
    "    # Return the trained model\n",
    "    return model"
   ]
  },
  {
   "cell_type": "markdown",
   "id": "8ad10708-cb5a-43ad-bcf0-b5fbee379b65",
   "metadata": {},
   "source": [
    "# Logistic Regression"
   ]
  },
  {
   "cell_type": "code",
   "execution_count": 21,
   "id": "4a4a2578-6cb3-47d6-ad49-b5ca6753cd7a",
   "metadata": {},
   "outputs": [
    {
     "name": "stdout",
     "output_type": "stream",
     "text": [
      "[[132  14]\n",
      " [ 36  49]]\n",
      "              precision    recall  f1-score   support\n",
      "\n",
      "           0       0.79      0.90      0.84       146\n",
      "           1       0.78      0.58      0.66        85\n",
      "\n",
      "    accuracy                           0.78       231\n",
      "   macro avg       0.78      0.74      0.75       231\n",
      "weighted avg       0.78      0.78      0.78       231\n",
      "\n"
     ]
    }
   ],
   "source": [
    "# Initialize a LogisticRegression model\n",
    "logr = LogisticRegression()\n",
    "\n",
    "# Apply the custom function 'myfunc' to LogisticRegression model\n",
    "logr = myfunc(logr)"
   ]
  },
  {
   "cell_type": "markdown",
   "id": "70215d38-5bfe-406a-8c42-0ab9ab1676fd",
   "metadata": {},
   "source": [
    "# Decision Tree Classifier"
   ]
  },
  {
   "cell_type": "code",
   "execution_count": 22,
   "id": "a0a39c9b-4457-48e3-9810-3d2f65b07e94",
   "metadata": {},
   "outputs": [
    {
     "name": "stdout",
     "output_type": "stream",
     "text": [
      "[[117  29]\n",
      " [ 42  43]]\n",
      "              precision    recall  f1-score   support\n",
      "\n",
      "           0       0.74      0.80      0.77       146\n",
      "           1       0.60      0.51      0.55        85\n",
      "\n",
      "    accuracy                           0.69       231\n",
      "   macro avg       0.67      0.65      0.66       231\n",
      "weighted avg       0.68      0.69      0.69       231\n",
      "\n"
     ]
    }
   ],
   "source": [
    "# Initialize a DecisionTreeClassifier model\n",
    "dtc = DecisionTreeClassifier(random_state = 1) # By default it will consider gini index.\n",
    "\n",
    "# Apply the custom function 'myfunc' to DecisionTreeClassifier model\n",
    "dtc = myfunc(dtc)"
   ]
  },
  {
   "cell_type": "code",
   "execution_count": 23,
   "id": "29640b36-62ef-40f5-8f89-b46d3d228d49",
   "metadata": {},
   "outputs": [
    {
     "data": {
      "text/html": [
       "<div>\n",
       "<style scoped>\n",
       "    .dataframe tbody tr th:only-of-type {\n",
       "        vertical-align: middle;\n",
       "    }\n",
       "\n",
       "    .dataframe tbody tr th {\n",
       "        vertical-align: top;\n",
       "    }\n",
       "\n",
       "    .dataframe thead th {\n",
       "        text-align: right;\n",
       "    }\n",
       "</style>\n",
       "<table border=\"1\" class=\"dataframe\">\n",
       "  <thead>\n",
       "    <tr style=\"text-align: right;\">\n",
       "      <th></th>\n",
       "      <th>Input columns</th>\n",
       "      <th>Information Gain</th>\n",
       "    </tr>\n",
       "  </thead>\n",
       "  <tbody>\n",
       "    <tr>\n",
       "      <th>0</th>\n",
       "      <td>Glucose</td>\n",
       "      <td>0.286047</td>\n",
       "    </tr>\n",
       "    <tr>\n",
       "      <th>1</th>\n",
       "      <td>BMI</td>\n",
       "      <td>0.175812</td>\n",
       "    </tr>\n",
       "    <tr>\n",
       "      <th>2</th>\n",
       "      <td>BloodPressure</td>\n",
       "      <td>0.168084</td>\n",
       "    </tr>\n",
       "    <tr>\n",
       "      <th>3</th>\n",
       "      <td>Age</td>\n",
       "      <td>0.120103</td>\n",
       "    </tr>\n",
       "    <tr>\n",
       "      <th>4</th>\n",
       "      <td>DiabetesPedigreeFunction</td>\n",
       "      <td>0.118873</td>\n",
       "    </tr>\n",
       "    <tr>\n",
       "      <th>5</th>\n",
       "      <td>Pregnancies</td>\n",
       "      <td>0.050616</td>\n",
       "    </tr>\n",
       "    <tr>\n",
       "      <th>6</th>\n",
       "      <td>SkinThickness</td>\n",
       "      <td>0.048001</td>\n",
       "    </tr>\n",
       "    <tr>\n",
       "      <th>7</th>\n",
       "      <td>Insulin</td>\n",
       "      <td>0.032465</td>\n",
       "    </tr>\n",
       "  </tbody>\n",
       "</table>\n",
       "</div>"
      ],
      "text/plain": [
       "              Input columns  Information Gain\n",
       "0                   Glucose          0.286047\n",
       "1                       BMI          0.175812\n",
       "2             BloodPressure          0.168084\n",
       "3                       Age          0.120103\n",
       "4  DiabetesPedigreeFunction          0.118873\n",
       "5               Pregnancies          0.050616\n",
       "6             SkinThickness          0.048001\n",
       "7                   Insulin          0.032465"
      ]
     },
     "execution_count": 23,
     "metadata": {},
     "output_type": "execute_result"
    }
   ],
   "source": [
    "# Creating a dataframe to check the feature importances.\n",
    "\n",
    "dict = {'Input columns': X.columns, 'Information Gain': dtc.feature_importances_}\n",
    "dict = pd.DataFrame(dict)\n",
    "dict.sort_values(by='Information Gain', ascending=False, ignore_index = True)"
   ]
  },
  {
   "cell_type": "markdown",
   "id": "444a6ba3-b784-433d-8503-37acfee8f78e",
   "metadata": {},
   "source": [
    "# Decision Tree Classifier(Gini Index): max_depth hyperparameter"
   ]
  },
  {
   "cell_type": "code",
   "execution_count": 24,
   "id": "9931154d-84f0-492b-b702-fd8231c681ad",
   "metadata": {},
   "outputs": [
    {
     "name": "stdout",
     "output_type": "stream",
     "text": [
      "[[122  24]\n",
      " [ 30  55]]\n",
      "              precision    recall  f1-score   support\n",
      "\n",
      "           0       0.80      0.84      0.82       146\n",
      "           1       0.70      0.65      0.67        85\n",
      "\n",
      "    accuracy                           0.77       231\n",
      "   macro avg       0.75      0.74      0.74       231\n",
      "weighted avg       0.76      0.77      0.76       231\n",
      "\n"
     ]
    }
   ],
   "source": [
    "# Iterate over a range of max_depth values from 1 to 8\n",
    "'''\n",
    "for i in range(1,9):\n",
    "\n",
    "    # initialize a DecisionTreeClassifier with max_depth hyper-parameter\n",
    "    dtc1 = DecisionTreeClassifier(random_state = 1, max_depth = i)\n",
    "    \n",
    "    print('\\n Max_depth:', i) # Print the max depth\n",
    "\n",
    "    # Apply the custom function 'myfunc' to DecisionTreeClassifier model\n",
    "    dtc1 = myfunc(dtc1)\n",
    "'''\n",
    "\n",
    "dtc1 = DecisionTreeClassifier(random_state=1, max_depth=5)\n",
    "dtc1 = myfunc(dtc1)"
   ]
  },
  {
   "cell_type": "code",
   "execution_count": 25,
   "id": "65c8598c-63de-415a-a37f-060085fe1c8e",
   "metadata": {},
   "outputs": [
    {
     "data": {
      "text/html": [
       "<div>\n",
       "<style scoped>\n",
       "    .dataframe tbody tr th:only-of-type {\n",
       "        vertical-align: middle;\n",
       "    }\n",
       "\n",
       "    .dataframe tbody tr th {\n",
       "        vertical-align: top;\n",
       "    }\n",
       "\n",
       "    .dataframe thead th {\n",
       "        text-align: right;\n",
       "    }\n",
       "</style>\n",
       "<table border=\"1\" class=\"dataframe\">\n",
       "  <thead>\n",
       "    <tr style=\"text-align: right;\">\n",
       "      <th></th>\n",
       "      <th>Input columns</th>\n",
       "      <th>Information Gain</th>\n",
       "    </tr>\n",
       "  </thead>\n",
       "  <tbody>\n",
       "    <tr>\n",
       "      <th>0</th>\n",
       "      <td>Glucose</td>\n",
       "      <td>0.450911</td>\n",
       "    </tr>\n",
       "    <tr>\n",
       "      <th>1</th>\n",
       "      <td>BMI</td>\n",
       "      <td>0.231458</td>\n",
       "    </tr>\n",
       "    <tr>\n",
       "      <th>2</th>\n",
       "      <td>Age</td>\n",
       "      <td>0.126493</td>\n",
       "    </tr>\n",
       "    <tr>\n",
       "      <th>3</th>\n",
       "      <td>DiabetesPedigreeFunction</td>\n",
       "      <td>0.097968</td>\n",
       "    </tr>\n",
       "    <tr>\n",
       "      <th>4</th>\n",
       "      <td>Pregnancies</td>\n",
       "      <td>0.055619</td>\n",
       "    </tr>\n",
       "    <tr>\n",
       "      <th>5</th>\n",
       "      <td>BloodPressure</td>\n",
       "      <td>0.024713</td>\n",
       "    </tr>\n",
       "    <tr>\n",
       "      <th>6</th>\n",
       "      <td>SkinThickness</td>\n",
       "      <td>0.012839</td>\n",
       "    </tr>\n",
       "    <tr>\n",
       "      <th>7</th>\n",
       "      <td>Insulin</td>\n",
       "      <td>0.000000</td>\n",
       "    </tr>\n",
       "  </tbody>\n",
       "</table>\n",
       "</div>"
      ],
      "text/plain": [
       "              Input columns  Information Gain\n",
       "0                   Glucose          0.450911\n",
       "1                       BMI          0.231458\n",
       "2                       Age          0.126493\n",
       "3  DiabetesPedigreeFunction          0.097968\n",
       "4               Pregnancies          0.055619\n",
       "5             BloodPressure          0.024713\n",
       "6             SkinThickness          0.012839\n",
       "7                   Insulin          0.000000"
      ]
     },
     "execution_count": 25,
     "metadata": {},
     "output_type": "execute_result"
    }
   ],
   "source": [
    "# Creating a dataframe to check the feature importances.\n",
    "\n",
    "dict = {'Input columns': X.columns, 'Information Gain': dtc1.feature_importances_}\n",
    "dict = pd.DataFrame(dict)\n",
    "dict.sort_values(by='Information Gain', ascending=False, ignore_index = True)"
   ]
  },
  {
   "cell_type": "markdown",
   "id": "58dd2b8f-bc13-493f-b1ef-5c5fb22283be",
   "metadata": {},
   "source": [
    "# Decision Tree Classifier(Gini Index): min_samples_leaf hyperparameter"
   ]
  },
  {
   "cell_type": "code",
   "execution_count": 26,
   "id": "66f6e7b2-06c7-4199-89de-ea64896b20e5",
   "metadata": {},
   "outputs": [
    {
     "name": "stdout",
     "output_type": "stream",
     "text": [
      "[[125  21]\n",
      " [ 25  60]]\n",
      "              precision    recall  f1-score   support\n",
      "\n",
      "           0       0.83      0.86      0.84       146\n",
      "           1       0.74      0.71      0.72        85\n",
      "\n",
      "    accuracy                           0.80       231\n",
      "   macro avg       0.79      0.78      0.78       231\n",
      "weighted avg       0.80      0.80      0.80       231\n",
      "\n"
     ]
    }
   ],
   "source": [
    "# Iterate over a range of min_samples_leaf values from 45 to 100\n",
    "'''\n",
    "for i in range(45,101):\n",
    "\n",
    "    # initialize a DecisionTreeClassifier with min_samples_leaf hyper-parameter\n",
    "    dtc2 = DecisionTreeClassifier(random_state = 1, min_samples_leaf = i)\n",
    "    \n",
    "    print('\\n Min Samples Leaf:', i) # Print the min samples leaf\n",
    "\n",
    "    # Apply the custom function 'myfunc' to DecisionTreeClassifier model\n",
    "    dtc2 = myfunc(dtc2)\n",
    "'''\n",
    "\n",
    "dtc2 = DecisionTreeClassifier(random_state = 1, min_samples_leaf = 45)\n",
    "dtc2 = myfunc(dtc2)"
   ]
  },
  {
   "cell_type": "code",
   "execution_count": 27,
   "id": "38a77a6b-2efe-4f39-ad06-477ace275fb6",
   "metadata": {},
   "outputs": [
    {
     "data": {
      "text/html": [
       "<div>\n",
       "<style scoped>\n",
       "    .dataframe tbody tr th:only-of-type {\n",
       "        vertical-align: middle;\n",
       "    }\n",
       "\n",
       "    .dataframe tbody tr th {\n",
       "        vertical-align: top;\n",
       "    }\n",
       "\n",
       "    .dataframe thead th {\n",
       "        text-align: right;\n",
       "    }\n",
       "</style>\n",
       "<table border=\"1\" class=\"dataframe\">\n",
       "  <thead>\n",
       "    <tr style=\"text-align: right;\">\n",
       "      <th></th>\n",
       "      <th>Input columns</th>\n",
       "      <th>Information Gain</th>\n",
       "    </tr>\n",
       "  </thead>\n",
       "  <tbody>\n",
       "    <tr>\n",
       "      <th>0</th>\n",
       "      <td>Glucose</td>\n",
       "      <td>0.574068</td>\n",
       "    </tr>\n",
       "    <tr>\n",
       "      <th>1</th>\n",
       "      <td>BMI</td>\n",
       "      <td>0.261437</td>\n",
       "    </tr>\n",
       "    <tr>\n",
       "      <th>2</th>\n",
       "      <td>Age</td>\n",
       "      <td>0.098884</td>\n",
       "    </tr>\n",
       "    <tr>\n",
       "      <th>3</th>\n",
       "      <td>DiabetesPedigreeFunction</td>\n",
       "      <td>0.062856</td>\n",
       "    </tr>\n",
       "    <tr>\n",
       "      <th>4</th>\n",
       "      <td>Pregnancies</td>\n",
       "      <td>0.002755</td>\n",
       "    </tr>\n",
       "    <tr>\n",
       "      <th>5</th>\n",
       "      <td>BloodPressure</td>\n",
       "      <td>0.000000</td>\n",
       "    </tr>\n",
       "    <tr>\n",
       "      <th>6</th>\n",
       "      <td>SkinThickness</td>\n",
       "      <td>0.000000</td>\n",
       "    </tr>\n",
       "    <tr>\n",
       "      <th>7</th>\n",
       "      <td>Insulin</td>\n",
       "      <td>0.000000</td>\n",
       "    </tr>\n",
       "  </tbody>\n",
       "</table>\n",
       "</div>"
      ],
      "text/plain": [
       "              Input columns  Information Gain\n",
       "0                   Glucose          0.574068\n",
       "1                       BMI          0.261437\n",
       "2                       Age          0.098884\n",
       "3  DiabetesPedigreeFunction          0.062856\n",
       "4               Pregnancies          0.002755\n",
       "5             BloodPressure          0.000000\n",
       "6             SkinThickness          0.000000\n",
       "7                   Insulin          0.000000"
      ]
     },
     "execution_count": 27,
     "metadata": {},
     "output_type": "execute_result"
    }
   ],
   "source": [
    "# Creating a dataframe to check the feature importances.\n",
    "\n",
    "dict = {'Input columns': X.columns, 'Information Gain': dtc2.feature_importances_}\n",
    "dict = pd.DataFrame(dict)\n",
    "dict.sort_values(by='Information Gain', ascending=False, ignore_index = True)"
   ]
  },
  {
   "cell_type": "markdown",
   "id": "41a18532-4db7-4e90-8bdb-1580fa981e8f",
   "metadata": {},
   "source": [
    "# Decision Tree Classifier(Entropy): max_depth hyperparameter"
   ]
  },
  {
   "cell_type": "code",
   "execution_count": 28,
   "id": "d4ab5ab6-b061-4801-b97d-3553e3cc15e3",
   "metadata": {},
   "outputs": [
    {
     "name": "stdout",
     "output_type": "stream",
     "text": [
      "[[116  30]\n",
      " [ 22  63]]\n",
      "              precision    recall  f1-score   support\n",
      "\n",
      "           0       0.84      0.79      0.82       146\n",
      "           1       0.68      0.74      0.71        85\n",
      "\n",
      "    accuracy                           0.77       231\n",
      "   macro avg       0.76      0.77      0.76       231\n",
      "weighted avg       0.78      0.77      0.78       231\n",
      "\n"
     ]
    }
   ],
   "source": [
    "# Iterate over a range of max_depth values from 1 to 8\n",
    "'''\n",
    "for i in range(1,9):\n",
    "\n",
    "    # initialize a DecisionTreeClassifier with max_depth hyper-parameter\n",
    "    dtc3 = DecisionTreeClassifier(random_state = 1, criterion = 'entropy', max_depth = i)\n",
    "    \n",
    "    print('\\n Max_depth:', i) # Print the max depth\n",
    "\n",
    "    # Apply the custom function 'myfunc' to DecisionTreeClassifier model\n",
    "    dtc3 = myfunc(dtc3)\n",
    "'''\n",
    "\n",
    "dtc3 = DecisionTreeClassifier(random_state = 1, criterion = 'entropy', max_depth = 7)\n",
    "dtc3 = myfunc(dtc3)"
   ]
  },
  {
   "cell_type": "code",
   "execution_count": 29,
   "id": "4f0628b7-7d50-4df8-8016-52a5f4d8ce06",
   "metadata": {},
   "outputs": [
    {
     "data": {
      "text/html": [
       "<div>\n",
       "<style scoped>\n",
       "    .dataframe tbody tr th:only-of-type {\n",
       "        vertical-align: middle;\n",
       "    }\n",
       "\n",
       "    .dataframe tbody tr th {\n",
       "        vertical-align: top;\n",
       "    }\n",
       "\n",
       "    .dataframe thead th {\n",
       "        text-align: right;\n",
       "    }\n",
       "</style>\n",
       "<table border=\"1\" class=\"dataframe\">\n",
       "  <thead>\n",
       "    <tr style=\"text-align: right;\">\n",
       "      <th></th>\n",
       "      <th>Input columns</th>\n",
       "      <th>Information Gain</th>\n",
       "    </tr>\n",
       "  </thead>\n",
       "  <tbody>\n",
       "    <tr>\n",
       "      <th>0</th>\n",
       "      <td>Glucose</td>\n",
       "      <td>0.328341</td>\n",
       "    </tr>\n",
       "    <tr>\n",
       "      <th>1</th>\n",
       "      <td>BMI</td>\n",
       "      <td>0.275093</td>\n",
       "    </tr>\n",
       "    <tr>\n",
       "      <th>2</th>\n",
       "      <td>Age</td>\n",
       "      <td>0.118530</td>\n",
       "    </tr>\n",
       "    <tr>\n",
       "      <th>3</th>\n",
       "      <td>DiabetesPedigreeFunction</td>\n",
       "      <td>0.092371</td>\n",
       "    </tr>\n",
       "    <tr>\n",
       "      <th>4</th>\n",
       "      <td>BloodPressure</td>\n",
       "      <td>0.090745</td>\n",
       "    </tr>\n",
       "    <tr>\n",
       "      <th>5</th>\n",
       "      <td>Pregnancies</td>\n",
       "      <td>0.053629</td>\n",
       "    </tr>\n",
       "    <tr>\n",
       "      <th>6</th>\n",
       "      <td>Insulin</td>\n",
       "      <td>0.021004</td>\n",
       "    </tr>\n",
       "    <tr>\n",
       "      <th>7</th>\n",
       "      <td>SkinThickness</td>\n",
       "      <td>0.020287</td>\n",
       "    </tr>\n",
       "  </tbody>\n",
       "</table>\n",
       "</div>"
      ],
      "text/plain": [
       "              Input columns  Information Gain\n",
       "0                   Glucose          0.328341\n",
       "1                       BMI          0.275093\n",
       "2                       Age          0.118530\n",
       "3  DiabetesPedigreeFunction          0.092371\n",
       "4             BloodPressure          0.090745\n",
       "5               Pregnancies          0.053629\n",
       "6                   Insulin          0.021004\n",
       "7             SkinThickness          0.020287"
      ]
     },
     "execution_count": 29,
     "metadata": {},
     "output_type": "execute_result"
    }
   ],
   "source": [
    "# Creating a dataframe to check the feature importances.\n",
    "\n",
    "dict = {'Input columns': X.columns, 'Information Gain': dtc3.feature_importances_}\n",
    "dict = pd.DataFrame(dict)\n",
    "dict.sort_values(by='Information Gain', ascending=False, ignore_index = True)"
   ]
  },
  {
   "cell_type": "markdown",
   "id": "5583a112-216c-495e-b7b5-2caeaecb45ca",
   "metadata": {},
   "source": [
    "# Decision Tree Classifier(Entropy): Min_samples_leaf hyperparameter"
   ]
  },
  {
   "cell_type": "code",
   "execution_count": 30,
   "id": "b9f44faf-fbfa-40ee-95cf-d809aff5842a",
   "metadata": {},
   "outputs": [
    {
     "name": "stdout",
     "output_type": "stream",
     "text": [
      "[[131  15]\n",
      " [ 32  53]]\n",
      "              precision    recall  f1-score   support\n",
      "\n",
      "           0       0.80      0.90      0.85       146\n",
      "           1       0.78      0.62      0.69        85\n",
      "\n",
      "    accuracy                           0.80       231\n",
      "   macro avg       0.79      0.76      0.77       231\n",
      "weighted avg       0.79      0.80      0.79       231\n",
      "\n"
     ]
    }
   ],
   "source": [
    "# Iterate over a range of min_samples_leaf values from 45 to 100\n",
    "'''\n",
    "for i in range(45,101):\n",
    "\n",
    "    # initialize a DecisionTreeClassifier with min_samples_leaf hyper-parameter\n",
    "    dtc4 = DecisionTreeClassifier(random_state = 1, criterion = 'entropy', min_samples_leaf = i)\n",
    "    \n",
    "    print('\\n Min Samples Leaf:', i) # Print the min samples leaf\n",
    "\n",
    "    # Apply the custom function 'myfunc' to DecisionTreeClassifier model\n",
    "    dtc4 = myfunc(dtc4)\n",
    "'''\n",
    "\n",
    "dtc4 = DecisionTreeClassifier(random_state = 1, criterion = 'entropy', min_samples_leaf = 49)\n",
    "dtc4 = myfunc(dtc4)"
   ]
  },
  {
   "cell_type": "code",
   "execution_count": 31,
   "id": "16021eeb-a36c-46a9-8425-629ecd3c9036",
   "metadata": {},
   "outputs": [
    {
     "data": {
      "text/html": [
       "<div>\n",
       "<style scoped>\n",
       "    .dataframe tbody tr th:only-of-type {\n",
       "        vertical-align: middle;\n",
       "    }\n",
       "\n",
       "    .dataframe tbody tr th {\n",
       "        vertical-align: top;\n",
       "    }\n",
       "\n",
       "    .dataframe thead th {\n",
       "        text-align: right;\n",
       "    }\n",
       "</style>\n",
       "<table border=\"1\" class=\"dataframe\">\n",
       "  <thead>\n",
       "    <tr style=\"text-align: right;\">\n",
       "      <th></th>\n",
       "      <th>Input columns</th>\n",
       "      <th>Information Gain</th>\n",
       "    </tr>\n",
       "  </thead>\n",
       "  <tbody>\n",
       "    <tr>\n",
       "      <th>0</th>\n",
       "      <td>Glucose</td>\n",
       "      <td>0.567561</td>\n",
       "    </tr>\n",
       "    <tr>\n",
       "      <th>1</th>\n",
       "      <td>BMI</td>\n",
       "      <td>0.314900</td>\n",
       "    </tr>\n",
       "    <tr>\n",
       "      <th>2</th>\n",
       "      <td>Age</td>\n",
       "      <td>0.117539</td>\n",
       "    </tr>\n",
       "    <tr>\n",
       "      <th>3</th>\n",
       "      <td>Pregnancies</td>\n",
       "      <td>0.000000</td>\n",
       "    </tr>\n",
       "    <tr>\n",
       "      <th>4</th>\n",
       "      <td>BloodPressure</td>\n",
       "      <td>0.000000</td>\n",
       "    </tr>\n",
       "    <tr>\n",
       "      <th>5</th>\n",
       "      <td>SkinThickness</td>\n",
       "      <td>0.000000</td>\n",
       "    </tr>\n",
       "    <tr>\n",
       "      <th>6</th>\n",
       "      <td>Insulin</td>\n",
       "      <td>0.000000</td>\n",
       "    </tr>\n",
       "    <tr>\n",
       "      <th>7</th>\n",
       "      <td>DiabetesPedigreeFunction</td>\n",
       "      <td>0.000000</td>\n",
       "    </tr>\n",
       "  </tbody>\n",
       "</table>\n",
       "</div>"
      ],
      "text/plain": [
       "              Input columns  Information Gain\n",
       "0                   Glucose          0.567561\n",
       "1                       BMI          0.314900\n",
       "2                       Age          0.117539\n",
       "3               Pregnancies          0.000000\n",
       "4             BloodPressure          0.000000\n",
       "5             SkinThickness          0.000000\n",
       "6                   Insulin          0.000000\n",
       "7  DiabetesPedigreeFunction          0.000000"
      ]
     },
     "execution_count": 31,
     "metadata": {},
     "output_type": "execute_result"
    }
   ],
   "source": [
    "# Creating a dataframe to check the feature importances.\n",
    "\n",
    "dict = {'Input columns': X.columns, 'Information Gain': dtc4.feature_importances_}\n",
    "dict = pd.DataFrame(dict)\n",
    "dict.sort_values(by='Information Gain', ascending=False, ignore_index = True)"
   ]
  },
  {
   "cell_type": "markdown",
   "id": "6b5f034a-629d-4916-9f2a-e3d541407e2e",
   "metadata": {},
   "source": [
    "# Random forest Classifier"
   ]
  },
  {
   "cell_type": "code",
   "execution_count": 32,
   "id": "83dd79ce-37ba-42df-8b1f-ad650751bc03",
   "metadata": {},
   "outputs": [
    {
     "name": "stdout",
     "output_type": "stream",
     "text": [
      "[[130  16]\n",
      " [ 26  59]]\n",
      "              precision    recall  f1-score   support\n",
      "\n",
      "           0       0.83      0.89      0.86       146\n",
      "           1       0.79      0.69      0.74        85\n",
      "\n",
      "    accuracy                           0.82       231\n",
      "   macro avg       0.81      0.79      0.80       231\n",
      "weighted avg       0.82      0.82      0.82       231\n",
      "\n"
     ]
    }
   ],
   "source": [
    "# Iterate over a range of n_estimators values from 10 to 100\n",
    "'''\n",
    "for i in range(10, 101):\n",
    "\n",
    "    #initialize a RandomForestClassifier with that number of estimators\n",
    "    rfc = RandomForestClassifier(n_estimators = i, random_state = 1)\n",
    "    \n",
    "    print('\\n No. of estimators:', i) # Print the no. of estimators\n",
    "\n",
    "    # Apply the custom function 'myfunc' to DecisionTreeClassifier model\n",
    "    rfc = myfunc(rfc)\n",
    "'''\n",
    "\n",
    "rfc = RandomForestClassifier(n_estimators = 29, random_state = 1)\n",
    "rfc = myfunc(rfc)"
   ]
  },
  {
   "cell_type": "code",
   "execution_count": 33,
   "id": "6d4486da-4fc6-4ba1-a0a5-421b981408c5",
   "metadata": {},
   "outputs": [
    {
     "data": {
      "text/html": [
       "<div>\n",
       "<style scoped>\n",
       "    .dataframe tbody tr th:only-of-type {\n",
       "        vertical-align: middle;\n",
       "    }\n",
       "\n",
       "    .dataframe tbody tr th {\n",
       "        vertical-align: top;\n",
       "    }\n",
       "\n",
       "    .dataframe thead th {\n",
       "        text-align: right;\n",
       "    }\n",
       "</style>\n",
       "<table border=\"1\" class=\"dataframe\">\n",
       "  <thead>\n",
       "    <tr style=\"text-align: right;\">\n",
       "      <th></th>\n",
       "      <th>Input columns</th>\n",
       "      <th>Information Gain</th>\n",
       "    </tr>\n",
       "  </thead>\n",
       "  <tbody>\n",
       "    <tr>\n",
       "      <th>0</th>\n",
       "      <td>Glucose</td>\n",
       "      <td>0.252912</td>\n",
       "    </tr>\n",
       "    <tr>\n",
       "      <th>1</th>\n",
       "      <td>BMI</td>\n",
       "      <td>0.166068</td>\n",
       "    </tr>\n",
       "    <tr>\n",
       "      <th>2</th>\n",
       "      <td>DiabetesPedigreeFunction</td>\n",
       "      <td>0.138780</td>\n",
       "    </tr>\n",
       "    <tr>\n",
       "      <th>3</th>\n",
       "      <td>Age</td>\n",
       "      <td>0.133714</td>\n",
       "    </tr>\n",
       "    <tr>\n",
       "      <th>4</th>\n",
       "      <td>BloodPressure</td>\n",
       "      <td>0.099226</td>\n",
       "    </tr>\n",
       "    <tr>\n",
       "      <th>5</th>\n",
       "      <td>Pregnancies</td>\n",
       "      <td>0.077773</td>\n",
       "    </tr>\n",
       "    <tr>\n",
       "      <th>6</th>\n",
       "      <td>SkinThickness</td>\n",
       "      <td>0.070698</td>\n",
       "    </tr>\n",
       "    <tr>\n",
       "      <th>7</th>\n",
       "      <td>Insulin</td>\n",
       "      <td>0.060829</td>\n",
       "    </tr>\n",
       "  </tbody>\n",
       "</table>\n",
       "</div>"
      ],
      "text/plain": [
       "              Input columns  Information Gain\n",
       "0                   Glucose          0.252912\n",
       "1                       BMI          0.166068\n",
       "2  DiabetesPedigreeFunction          0.138780\n",
       "3                       Age          0.133714\n",
       "4             BloodPressure          0.099226\n",
       "5               Pregnancies          0.077773\n",
       "6             SkinThickness          0.070698\n",
       "7                   Insulin          0.060829"
      ]
     },
     "execution_count": 33,
     "metadata": {},
     "output_type": "execute_result"
    }
   ],
   "source": [
    "# Creating a dataframe to check the feature importances.\n",
    "\n",
    "dict = {'Input columns': X.columns, 'Information Gain': rfc.feature_importances_}\n",
    "dict = pd.DataFrame(dict)\n",
    "dict.sort_values(by='Information Gain', ascending = False, ignore_index = True)"
   ]
  },
  {
   "cell_type": "markdown",
   "id": "0cdc5bc4-d693-47e6-92aa-8767f68e830c",
   "metadata": {},
   "source": [
    "# ADA Boost Classifier"
   ]
  },
  {
   "cell_type": "code",
   "execution_count": 34,
   "id": "a909fbc9-84fd-4f34-b33f-0f71d9888a8b",
   "metadata": {},
   "outputs": [
    {
     "name": "stdout",
     "output_type": "stream",
     "text": [
      "[[128  18]\n",
      " [ 33  52]]\n",
      "              precision    recall  f1-score   support\n",
      "\n",
      "           0       0.80      0.88      0.83       146\n",
      "           1       0.74      0.61      0.67        85\n",
      "\n",
      "    accuracy                           0.78       231\n",
      "   macro avg       0.77      0.74      0.75       231\n",
      "weighted avg       0.78      0.78      0.77       231\n",
      "\n"
     ]
    }
   ],
   "source": [
    "# Iterate over a range of n_estimators values from 1 to 16\n",
    "'''\n",
    "for i in range(1, 17):\n",
    "\n",
    "    # initialize an AdaBoostClassifier with that number of estimators\n",
    "    abc = AdaBoostClassifier(n_estimators = i, random_state = 1)\n",
    "    \n",
    "    print('\\n No. of estimators:', i) # Print the no. of estimators\n",
    "\n",
    "    # Apply the custom function 'myfunc' to DecisionTreeClassifier model\n",
    "    abc = myfunc(abc)\n",
    "'''\n",
    "\n",
    "abc = AdaBoostClassifier(n_estimators = 15, random_state = 1)\n",
    "abc = myfunc(abc)"
   ]
  },
  {
   "cell_type": "code",
   "execution_count": 35,
   "id": "4def0e40-a8bc-45ee-adec-5e907f941316",
   "metadata": {},
   "outputs": [
    {
     "data": {
      "text/html": [
       "<div>\n",
       "<style scoped>\n",
       "    .dataframe tbody tr th:only-of-type {\n",
       "        vertical-align: middle;\n",
       "    }\n",
       "\n",
       "    .dataframe tbody tr th {\n",
       "        vertical-align: top;\n",
       "    }\n",
       "\n",
       "    .dataframe thead th {\n",
       "        text-align: right;\n",
       "    }\n",
       "</style>\n",
       "<table border=\"1\" class=\"dataframe\">\n",
       "  <thead>\n",
       "    <tr style=\"text-align: right;\">\n",
       "      <th></th>\n",
       "      <th>Input columns</th>\n",
       "      <th>Information Gain</th>\n",
       "    </tr>\n",
       "  </thead>\n",
       "  <tbody>\n",
       "    <tr>\n",
       "      <th>0</th>\n",
       "      <td>Glucose</td>\n",
       "      <td>0.333333</td>\n",
       "    </tr>\n",
       "    <tr>\n",
       "      <th>1</th>\n",
       "      <td>DiabetesPedigreeFunction</td>\n",
       "      <td>0.200000</td>\n",
       "    </tr>\n",
       "    <tr>\n",
       "      <th>2</th>\n",
       "      <td>Age</td>\n",
       "      <td>0.200000</td>\n",
       "    </tr>\n",
       "    <tr>\n",
       "      <th>3</th>\n",
       "      <td>BMI</td>\n",
       "      <td>0.133333</td>\n",
       "    </tr>\n",
       "    <tr>\n",
       "      <th>4</th>\n",
       "      <td>Pregnancies</td>\n",
       "      <td>0.066667</td>\n",
       "    </tr>\n",
       "    <tr>\n",
       "      <th>5</th>\n",
       "      <td>BloodPressure</td>\n",
       "      <td>0.066667</td>\n",
       "    </tr>\n",
       "    <tr>\n",
       "      <th>6</th>\n",
       "      <td>SkinThickness</td>\n",
       "      <td>0.000000</td>\n",
       "    </tr>\n",
       "    <tr>\n",
       "      <th>7</th>\n",
       "      <td>Insulin</td>\n",
       "      <td>0.000000</td>\n",
       "    </tr>\n",
       "  </tbody>\n",
       "</table>\n",
       "</div>"
      ],
      "text/plain": [
       "              Input columns  Information Gain\n",
       "0                   Glucose          0.333333\n",
       "1  DiabetesPedigreeFunction          0.200000\n",
       "2                       Age          0.200000\n",
       "3                       BMI          0.133333\n",
       "4               Pregnancies          0.066667\n",
       "5             BloodPressure          0.066667\n",
       "6             SkinThickness          0.000000\n",
       "7                   Insulin          0.000000"
      ]
     },
     "execution_count": 35,
     "metadata": {},
     "output_type": "execute_result"
    }
   ],
   "source": [
    "# Creating a dataframe to check the feature importances.\n",
    "\n",
    "dict = {'Input columns': X.columns, 'Information Gain': abc.feature_importances_}\n",
    "dict = pd.DataFrame(dict)\n",
    "dict.sort_values(by='Information Gain', ascending = False, ignore_index = True)"
   ]
  },
  {
   "cell_type": "markdown",
   "id": "db2ee6ef-fd30-470b-a65b-7d84c1defbeb",
   "metadata": {},
   "source": [
    "# Gradient Boosting Classifier"
   ]
  },
  {
   "cell_type": "code",
   "execution_count": 36,
   "id": "60433688-4443-42b6-8f87-b0626c7d3823",
   "metadata": {},
   "outputs": [
    {
     "name": "stdout",
     "output_type": "stream",
     "text": [
      "[[126  20]\n",
      " [ 27  58]]\n",
      "              precision    recall  f1-score   support\n",
      "\n",
      "           0       0.82      0.86      0.84       146\n",
      "           1       0.74      0.68      0.71        85\n",
      "\n",
      "    accuracy                           0.80       231\n",
      "   macro avg       0.78      0.77      0.78       231\n",
      "weighted avg       0.79      0.80      0.79       231\n",
      "\n"
     ]
    }
   ],
   "source": [
    "# Iterate over a range of n_estimators values from 1 to 100\n",
    "'''\n",
    "for i in range(10, 101):\n",
    "\n",
    "    # initialize a GradientBoostingClassifier with that number of estimators\n",
    "    gbc = GradientBoostingClassifier(n_estimators = i, random_state = 1)\n",
    "    \n",
    "    print('\\n No. of Estimators:', i) # Print the no. of estimators\n",
    "\n",
    "    # Apply the custom function 'myfunc' to DecisionTreeClassifier model\n",
    "    gbc = myfunc(gbc)\n",
    "'''\n",
    "\n",
    "gbc = GradientBoostingClassifier(n_estimators = 36, random_state = 1)\n",
    "gbc = myfunc(gbc)"
   ]
  },
  {
   "cell_type": "code",
   "execution_count": 37,
   "id": "4a785ad5-1d7c-4104-bf8d-684bddd2e963",
   "metadata": {},
   "outputs": [
    {
     "data": {
      "text/html": [
       "<div>\n",
       "<style scoped>\n",
       "    .dataframe tbody tr th:only-of-type {\n",
       "        vertical-align: middle;\n",
       "    }\n",
       "\n",
       "    .dataframe tbody tr th {\n",
       "        vertical-align: top;\n",
       "    }\n",
       "\n",
       "    .dataframe thead th {\n",
       "        text-align: right;\n",
       "    }\n",
       "</style>\n",
       "<table border=\"1\" class=\"dataframe\">\n",
       "  <thead>\n",
       "    <tr style=\"text-align: right;\">\n",
       "      <th></th>\n",
       "      <th>Input columns</th>\n",
       "      <th>Information Gain</th>\n",
       "    </tr>\n",
       "  </thead>\n",
       "  <tbody>\n",
       "    <tr>\n",
       "      <th>0</th>\n",
       "      <td>Glucose</td>\n",
       "      <td>0.432682</td>\n",
       "    </tr>\n",
       "    <tr>\n",
       "      <th>1</th>\n",
       "      <td>BMI</td>\n",
       "      <td>0.240545</td>\n",
       "    </tr>\n",
       "    <tr>\n",
       "      <th>2</th>\n",
       "      <td>Age</td>\n",
       "      <td>0.134924</td>\n",
       "    </tr>\n",
       "    <tr>\n",
       "      <th>3</th>\n",
       "      <td>DiabetesPedigreeFunction</td>\n",
       "      <td>0.091214</td>\n",
       "    </tr>\n",
       "    <tr>\n",
       "      <th>4</th>\n",
       "      <td>Pregnancies</td>\n",
       "      <td>0.045422</td>\n",
       "    </tr>\n",
       "    <tr>\n",
       "      <th>5</th>\n",
       "      <td>BloodPressure</td>\n",
       "      <td>0.023756</td>\n",
       "    </tr>\n",
       "    <tr>\n",
       "      <th>6</th>\n",
       "      <td>Insulin</td>\n",
       "      <td>0.020708</td>\n",
       "    </tr>\n",
       "    <tr>\n",
       "      <th>7</th>\n",
       "      <td>SkinThickness</td>\n",
       "      <td>0.010750</td>\n",
       "    </tr>\n",
       "  </tbody>\n",
       "</table>\n",
       "</div>"
      ],
      "text/plain": [
       "              Input columns  Information Gain\n",
       "0                   Glucose          0.432682\n",
       "1                       BMI          0.240545\n",
       "2                       Age          0.134924\n",
       "3  DiabetesPedigreeFunction          0.091214\n",
       "4               Pregnancies          0.045422\n",
       "5             BloodPressure          0.023756\n",
       "6                   Insulin          0.020708\n",
       "7             SkinThickness          0.010750"
      ]
     },
     "execution_count": 37,
     "metadata": {},
     "output_type": "execute_result"
    }
   ],
   "source": [
    "# Creating a dataframe to check the feature importances.\n",
    "\n",
    "dict = {'Input columns': X.columns, 'Information Gain': gbc.feature_importances_}\n",
    "dict = pd.DataFrame(dict)\n",
    "dict.sort_values(by='Information Gain', ascending = False, ignore_index = True)"
   ]
  },
  {
   "cell_type": "markdown",
   "id": "0ff10499-7898-4c1f-a644-9411a3e05405",
   "metadata": {},
   "source": [
    "# Extreme Gradient Boosting Classifier"
   ]
  },
  {
   "cell_type": "code",
   "execution_count": 38,
   "id": "33b296d3-5843-4069-af30-e9d2e83239e2",
   "metadata": {},
   "outputs": [
    {
     "name": "stdout",
     "output_type": "stream",
     "text": [
      "[[126  20]\n",
      " [ 29  56]]\n",
      "              precision    recall  f1-score   support\n",
      "\n",
      "           0       0.81      0.86      0.84       146\n",
      "           1       0.74      0.66      0.70        85\n",
      "\n",
      "    accuracy                           0.79       231\n",
      "   macro avg       0.77      0.76      0.77       231\n",
      "weighted avg       0.78      0.79      0.79       231\n",
      "\n"
     ]
    }
   ],
   "source": [
    "# Iterate over a range of n_estimators values from 10 to 100\n",
    "'''\n",
    "for i in range(10, 101):\n",
    "\n",
    "    # initialize an XGBClassifier with that number of estimators\n",
    "    xgbc = XGBClassifier(n_estimators = i, reg_alpha = 1, random_state = 1)\n",
    "    \n",
    "    print('\\n No. of estimators:', i) # Print the no. of estimators\n",
    "\n",
    "    # Apply the custom function 'myfunc' to DecisionTreeClassifier model\n",
    "    xgbc = myfunc(xgbc)\n",
    "'''\n",
    "\n",
    "xgbc = XGBClassifier(n_estimators = 54, reg_alpha = 1, random_state = 1)\n",
    "xgbc = myfunc(xgbc)"
   ]
  },
  {
   "cell_type": "code",
   "execution_count": 39,
   "id": "f9182176-87e6-44cb-96b8-452650fec7c0",
   "metadata": {},
   "outputs": [
    {
     "data": {
      "text/html": [
       "<div>\n",
       "<style scoped>\n",
       "    .dataframe tbody tr th:only-of-type {\n",
       "        vertical-align: middle;\n",
       "    }\n",
       "\n",
       "    .dataframe tbody tr th {\n",
       "        vertical-align: top;\n",
       "    }\n",
       "\n",
       "    .dataframe thead th {\n",
       "        text-align: right;\n",
       "    }\n",
       "</style>\n",
       "<table border=\"1\" class=\"dataframe\">\n",
       "  <thead>\n",
       "    <tr style=\"text-align: right;\">\n",
       "      <th></th>\n",
       "      <th>Input columns</th>\n",
       "      <th>Information Gain</th>\n",
       "    </tr>\n",
       "  </thead>\n",
       "  <tbody>\n",
       "    <tr>\n",
       "      <th>0</th>\n",
       "      <td>Glucose</td>\n",
       "      <td>0.293739</td>\n",
       "    </tr>\n",
       "    <tr>\n",
       "      <th>1</th>\n",
       "      <td>BMI</td>\n",
       "      <td>0.166969</td>\n",
       "    </tr>\n",
       "    <tr>\n",
       "      <th>2</th>\n",
       "      <td>Age</td>\n",
       "      <td>0.148568</td>\n",
       "    </tr>\n",
       "    <tr>\n",
       "      <th>3</th>\n",
       "      <td>DiabetesPedigreeFunction</td>\n",
       "      <td>0.102046</td>\n",
       "    </tr>\n",
       "    <tr>\n",
       "      <th>4</th>\n",
       "      <td>BloodPressure</td>\n",
       "      <td>0.083304</td>\n",
       "    </tr>\n",
       "    <tr>\n",
       "      <th>5</th>\n",
       "      <td>SkinThickness</td>\n",
       "      <td>0.073117</td>\n",
       "    </tr>\n",
       "    <tr>\n",
       "      <th>6</th>\n",
       "      <td>Pregnancies</td>\n",
       "      <td>0.072046</td>\n",
       "    </tr>\n",
       "    <tr>\n",
       "      <th>7</th>\n",
       "      <td>Insulin</td>\n",
       "      <td>0.060212</td>\n",
       "    </tr>\n",
       "  </tbody>\n",
       "</table>\n",
       "</div>"
      ],
      "text/plain": [
       "              Input columns  Information Gain\n",
       "0                   Glucose          0.293739\n",
       "1                       BMI          0.166969\n",
       "2                       Age          0.148568\n",
       "3  DiabetesPedigreeFunction          0.102046\n",
       "4             BloodPressure          0.083304\n",
       "5             SkinThickness          0.073117\n",
       "6               Pregnancies          0.072046\n",
       "7                   Insulin          0.060212"
      ]
     },
     "execution_count": 39,
     "metadata": {},
     "output_type": "execute_result"
    }
   ],
   "source": [
    "# Creating a dataframe to check the feature importances.\n",
    "\n",
    "dict = {'Input columns': X.columns, 'Information Gain': xgbc.feature_importances_}\n",
    "dict = pd.DataFrame(dict)\n",
    "dict.sort_values(by='Information Gain', ascending = False, ignore_index = True)"
   ]
  },
  {
   "cell_type": "markdown",
   "id": "79d0dcfc-fba6-4447-93de-4787c630b9ec",
   "metadata": {},
   "source": [
    "# Support Vector Classifier"
   ]
  },
  {
   "cell_type": "code",
   "execution_count": 40,
   "id": "cd702bd3-9885-4a0d-a822-b29086c55806",
   "metadata": {},
   "outputs": [
    {
     "name": "stdout",
     "output_type": "stream",
     "text": [
      "[[132  14]\n",
      " [ 36  49]]\n",
      "              precision    recall  f1-score   support\n",
      "\n",
      "           0       0.79      0.90      0.84       146\n",
      "           1       0.78      0.58      0.66        85\n",
      "\n",
      "    accuracy                           0.78       231\n",
      "   macro avg       0.78      0.74      0.75       231\n",
      "weighted avg       0.78      0.78      0.78       231\n",
      "\n"
     ]
    }
   ],
   "source": [
    "lsvc = LinearSVC(random_state = 1, C = 0.5) # Initialize a Linear Support Vector Classification (LinearSVC) model with a\n",
    "# regularization parameter (C) of 0.5 and a fixed random state\n",
    "lsvc = myfunc(lsvc) # Apply the custom function 'myfunc' to Support Vector classifier model"
   ]
  },
  {
   "cell_type": "code",
   "execution_count": 41,
   "id": "0d1765ff-730b-40af-98f0-cce992089b45",
   "metadata": {},
   "outputs": [
    {
     "name": "stdout",
     "output_type": "stream",
     "text": [
      "[[141   5]\n",
      " [ 55  30]]\n",
      "              precision    recall  f1-score   support\n",
      "\n",
      "           0       0.72      0.97      0.82       146\n",
      "           1       0.86      0.35      0.50        85\n",
      "\n",
      "    accuracy                           0.74       231\n",
      "   macro avg       0.79      0.66      0.66       231\n",
      "weighted avg       0.77      0.74      0.71       231\n",
      "\n"
     ]
    }
   ],
   "source": [
    "poly_svc = SVC(random_state = 1, kernel = 'poly') # Initialize a Support Vector Classification (SVC) model with a polynomial kernel\n",
    "# and a fixed random state\n",
    "poly_svc = myfunc(poly_svc) # Apply the custom function 'myfunc' to support vector Classifier model"
   ]
  },
  {
   "cell_type": "code",
   "execution_count": 42,
   "id": "e5434336-8c1f-4b61-aba3-1dcdc215fbbe",
   "metadata": {},
   "outputs": [
    {
     "name": "stdout",
     "output_type": "stream",
     "text": [
      "[[134  12]\n",
      " [ 36  49]]\n",
      "              precision    recall  f1-score   support\n",
      "\n",
      "           0       0.79      0.92      0.85       146\n",
      "           1       0.80      0.58      0.67        85\n",
      "\n",
      "    accuracy                           0.79       231\n",
      "   macro avg       0.80      0.75      0.76       231\n",
      "weighted avg       0.79      0.79      0.78       231\n",
      "\n"
     ]
    }
   ],
   "source": [
    "svc_radial = SVC(random_state = 1, kernel = 'rbf') # Initialize a support Vector Classification (SVC) model with a\n",
    "# radial basis function kernel and a fixed random state\n",
    "svc_radial = myfunc(svc_radial) # Apply the custom function 'myfunc' to support vector classifier model"
   ]
  },
  {
   "cell_type": "markdown",
   "id": "3d17b410-655f-40cd-897d-53753642dd18",
   "metadata": {},
   "source": [
    "# All Model's Score"
   ]
  },
  {
   "cell_type": "code",
   "execution_count": 43,
   "id": "b9d433fa-3c54-44f6-b95e-d66319a0d076",
   "metadata": {},
   "outputs": [
    {
     "data": {
      "text/plain": [
       "'\\nLogistic Regression: Accuracy = 78%\\nDecision Tree Gini Index(Min_Samples_Leaf): Accuracy = 80%\\nRandom Forest Classifier: Accuracy = 82%\\nADA Boost Classifier: Accuracy = 78%\\nGradient Boost Classifier: Accuracy = 80%\\nExtreme Gradient Boost Classifier: Accuracy = 79%\\nSupport Vector Classifier(Non-Linear): Accuracy = 79%\\n'"
      ]
     },
     "execution_count": 43,
     "metadata": {},
     "output_type": "execute_result"
    }
   ],
   "source": [
    "# All Model's scores:\n",
    "'''\n",
    "Logistic Regression: Accuracy = 78%\n",
    "Decision Tree Gini Index(Min_Samples_Leaf): Accuracy = 80%\n",
    "Random Forest Classifier: Accuracy = 82%\n",
    "ADA Boost Classifier: Accuracy = 78%\n",
    "Gradient Boost Classifier: Accuracy = 80%\n",
    "Extreme Gradient Boost Classifier: Accuracy = 79%\n",
    "Support Vector Classifier(Non-Linear): Accuracy = 79%\n",
    "'''"
   ]
  },
  {
   "cell_type": "markdown",
   "id": "02ea64ac-37fb-4ad3-8811-1a8bdd8deb8c",
   "metadata": {},
   "source": [
    "# Conclusion"
   ]
  },
  {
   "cell_type": "code",
   "execution_count": 44,
   "id": "b0e74b2f-9cf7-422a-bfe5-5d4228c77894",
   "metadata": {},
   "outputs": [
    {
     "data": {
      "text/plain": [
       "'\\nWe tested various models to predict the outcome, aiming for the highest accuracy. Among them,\\nRandom Forest yielded the best results, measured by accuracy, precision, recall, and F1-scores.\\nRandom forest classifier: 82% accuracy.\\nWe consider the Random forest classifier is the more reliable model. given its high accuracy compared\\n to the other models tested.\\n'"
      ]
     },
     "execution_count": 44,
     "metadata": {},
     "output_type": "execute_result"
    }
   ],
   "source": [
    "# Conclusion:\n",
    "'''\n",
    "We tested various models to predict the outcome, aiming for the highest accuracy. Among them,\n",
    "Random Forest yielded the best results, measured by accuracy, precision, recall, and F1-scores.\n",
    "Random forest classifier: 82% accuracy.\n",
    "We consider the Random forest classifier is the more reliable model. given its high accuracy compared\n",
    " to the other models tested.\n",
    "'''"
   ]
  },
  {
   "cell_type": "markdown",
   "id": "2046e728-d656-434f-ac5f-eb4363089266",
   "metadata": {},
   "source": [
    "# Model Deploy"
   ]
  },
  {
   "cell_type": "code",
   "execution_count": 45,
   "id": "765fc37a-9c20-484f-8f89-d06c0aa1e4d1",
   "metadata": {},
   "outputs": [],
   "source": [
    "# Save model:-\n",
    "# Use file handling of python: use inbuilt library 'pickle'\n",
    "import pickle\n",
    "\n",
    "# To open file in write binary for model create\n",
    "file1 = open('diab_model.pkl', 'wb') # diab_model: new file which store object\n",
    "# of algorithms which has the highest score\n",
    "\n",
    "file2 = open('diab_scale.pkl', 'wb') # new file which store the object of standard\n",
    "# scale."
   ]
  },
  {
   "cell_type": "code",
   "execution_count": 46,
   "id": "e0790fe2-6257-4d9b-b69a-193b60ffdea3",
   "metadata": {},
   "outputs": [],
   "source": [
    "# save object of algorithm of (Random Forest classifier) class in temp file\n",
    "# file1 and file2\n",
    "pickle.dump(rfc, file1)\n",
    "\n",
    "# To close temp file 'file1'\n",
    "file1.close()"
   ]
  },
  {
   "cell_type": "code",
   "execution_count": 47,
   "id": "95c59ca5-fc6a-45c1-95b0-577661bfca19",
   "metadata": {},
   "outputs": [],
   "source": [
    "# save object of standardscaler class\n",
    "pickle.dump(ss, file2)\n",
    "\n",
    "# to close temp file 'file2'\n",
    "file2.close()"
   ]
  },
  {
   "cell_type": "code",
   "execution_count": 48,
   "id": "2b3347ed-519f-4390-93ae-d2fa1ef1b114",
   "metadata": {},
   "outputs": [],
   "source": [
    "# To read file in read binary mode(rb)\n",
    "# to open file in read mode for model\n",
    "file1 = open('diab_model.pkl', 'rb')\n",
    "\n",
    "# To open file in read mode for scale\n",
    "file2 = open('diab_scale.pkl', 'rb')"
   ]
  },
  {
   "cell_type": "code",
   "execution_count": 49,
   "id": "e3d43b14-479e-46e4-84f9-31166149a818",
   "metadata": {},
   "outputs": [],
   "source": [
    "# to read data from file1 and hold in temp object\n",
    "model = pickle.load(file1) # Load() inbuilt method of pickle class\n",
    "scale = pickle.load(file2) # Load() inbuilt method of pickle class"
   ]
  },
  {
   "cell_type": "code",
   "execution_count": 50,
   "id": "d0218584-81fa-4216-8888-3f0d7b9db76b",
   "metadata": {},
   "outputs": [
    {
     "name": "stdin",
     "output_type": "stream",
     "text": [
      "Enter pregnancies: 4\n",
      "Enter Glucose: 110\n",
      "Enter BloodPressure: 92\n",
      "Enter SkinThickness: 0\n",
      "Enter Insulin: 0\n",
      "Enter BMI: 37.6\n",
      "Enter DiabetesPedigreeFunction: 0.191\n",
      "Enter Age: 30\n"
     ]
    }
   ],
   "source": [
    "# input()\n",
    "Pregnancies = int(input('Enter pregnancies:'))\n",
    "Glucose = int(input('Enter Glucose:'))\n",
    "BloodPressure = int(input('Enter BloodPressure:'))\n",
    "SkinThickness = int(input('Enter SkinThickness:'))\n",
    "Insulin = int(input('Enter Insulin:'))\n",
    "BMI = float(input('Enter BMI:'))\n",
    "DiabetesPedigreeFunction = float(input('Enter DiabetesPedigreeFunction:'))\n",
    "Age = int(input('Enter Age:'))"
   ]
  },
  {
   "cell_type": "code",
   "execution_count": 51,
   "id": "a8661daf-be18-4129-a6e3-851c06229209",
   "metadata": {},
   "outputs": [
    {
     "name": "stdout",
     "output_type": "stream",
     "text": [
      "<class 'numpy.ndarray'> 2\n",
      "[[  4.    110.     92.      0.      0.     37.6     0.191  30.   ]]\n"
     ]
    }
   ],
   "source": [
    "# Create numpy 2D array\n",
    "import numpy as np\n",
    "data = np.array([[Pregnancies, Glucose, BloodPressure, SkinThickness, Insulin,\n",
    "                 BMI, DiabetesPedigreeFunction, Age]])\n",
    "print(type(data), data.ndim)\n",
    "print(data)"
   ]
  },
  {
   "cell_type": "code",
   "execution_count": 52,
   "id": "b3e851d3-b71d-4f11-b298-464c58e0e59f",
   "metadata": {},
   "outputs": [
    {
     "name": "stdout",
     "output_type": "stream",
     "text": [
      "[[ 0.07221618 -0.35244997  1.14690056 -1.2257217  -0.68822177  0.75132705\n",
      "  -0.83272878 -0.27707687]]\n"
     ]
    }
   ],
   "source": [
    "# Apply scaling on data\n",
    "data = scale.transform(data)\n",
    "print(data)"
   ]
  },
  {
   "cell_type": "code",
   "execution_count": 53,
   "id": "2170390f-803b-4191-aae9-b646d8d2e02b",
   "metadata": {},
   "outputs": [
    {
     "name": "stdout",
     "output_type": "stream",
     "text": [
      "[0]\n"
     ]
    }
   ],
   "source": [
    "y_pred = model.predict(data)\n",
    "print(y_pred)"
   ]
  },
  {
   "cell_type": "code",
   "execution_count": null,
   "id": "6c3d4432-6187-40b1-b043-628874799907",
   "metadata": {},
   "outputs": [],
   "source": []
  }
 ],
 "metadata": {
  "kernelspec": {
   "display_name": "Python 3 (ipykernel)",
   "language": "python",
   "name": "python3"
  },
  "language_info": {
   "codemirror_mode": {
    "name": "ipython",
    "version": 3
   },
   "file_extension": ".py",
   "mimetype": "text/x-python",
   "name": "python",
   "nbconvert_exporter": "python",
   "pygments_lexer": "ipython3",
   "version": "3.11.7"
  }
 },
 "nbformat": 4,
 "nbformat_minor": 5
}
